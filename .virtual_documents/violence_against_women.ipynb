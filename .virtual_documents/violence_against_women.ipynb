import pandas as pd
import numpy as np
import panel as pn
pn.extension('tabulator')

import hvplot.pandas 


df = pd.read_csv('data_source/violence_data.csv')


df.head().T


df.columns


df.dtypes



