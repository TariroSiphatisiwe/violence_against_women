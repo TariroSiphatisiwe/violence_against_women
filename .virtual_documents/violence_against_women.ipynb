import pandas as pd
import numpy as np
import panel as pn
pn.extension('tabulator')

import hvplot.pandas 


df = pd.read_csv('data_source/violence_data.csv')


df.head().T


df.columns


df.dtypes


# Number of missing values in data Frame. 
df.isna().sum()


# Create new dashboard panel
dashboard =pn.panel(df)

#Find the Unique Names of Countries in the Data Frame.
countries = df['Country'].unique()
list_countries = list(countries)

# Create a widget to select a country.
country = pn.widgets.Select(name='Country',options = list_countries)


# Define a function which filters the data based on the country.
def filter_country(country):
    filtered_df = df[df['Country'] == country]
    return filter_country

filtered_df = filter_country(country)
# Use the Interactive function to link the widget to the function
interactive_dashboard = pn.interact(filter_country, country=country)

# Display the interactive dashboard
interactive_dashboard



@pn.depends(list_countries.param.value_throttled)
def country_range(list_country):
   return '### Floods Between{start} --  {end}'.format(start=year[0], end=year[1])



